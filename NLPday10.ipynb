{
 "cells": [
  {
   "cell_type": "code",
   "execution_count": 153,
   "metadata": {},
   "outputs": [
    {
     "data": {
      "text/html": [
       "<div>\n",
       "<style scoped>\n",
       "    .dataframe tbody tr th:only-of-type {\n",
       "        vertical-align: middle;\n",
       "    }\n",
       "\n",
       "    .dataframe tbody tr th {\n",
       "        vertical-align: top;\n",
       "    }\n",
       "\n",
       "    .dataframe thead th {\n",
       "        text-align: right;\n",
       "    }\n",
       "</style>\n",
       "<table border=\"1\" class=\"dataframe\">\n",
       "  <thead>\n",
       "    <tr style=\"text-align: right;\">\n",
       "      <th></th>\n",
       "      <th>posteam</th>\n",
       "      <th>play_type</th>\n",
       "      <th>quarter_seconds_remaining</th>\n",
       "      <th>pass_length</th>\n",
       "      <th>pass_location</th>\n",
       "      <th>run_location</th>\n",
       "      <th>ydstogo</th>\n",
       "      <th>first_down_rush</th>\n",
       "      <th>yrdln</th>\n",
       "      <th>game_id</th>\n",
       "      <th>...</th>\n",
       "      <th>time_score</th>\n",
       "      <th>posteam_f</th>\n",
       "      <th>play_type_f</th>\n",
       "      <th>pass_length_f</th>\n",
       "      <th>pass_location_f</th>\n",
       "      <th>run_location_f</th>\n",
       "      <th>defteam_f</th>\n",
       "      <th>side_of_field_f</th>\n",
       "      <th>yrdln_f</th>\n",
       "      <th>posteam_rp_ratio</th>\n",
       "    </tr>\n",
       "  </thead>\n",
       "  <tbody>\n",
       "    <tr>\n",
       "      <th>0</th>\n",
       "      <td>PIT</td>\n",
       "      <td>pass</td>\n",
       "      <td>893.0</td>\n",
       "      <td>short</td>\n",
       "      <td>left</td>\n",
       "      <td>NaN</td>\n",
       "      <td>10</td>\n",
       "      <td>0.0</td>\n",
       "      <td>PIT 42</td>\n",
       "      <td>2009091000</td>\n",
       "      <td>...</td>\n",
       "      <td>3593.0</td>\n",
       "      <td>0</td>\n",
       "      <td>0</td>\n",
       "      <td>0</td>\n",
       "      <td>0</td>\n",
       "      <td>0</td>\n",
       "      <td>0</td>\n",
       "      <td>0</td>\n",
       "      <td>0</td>\n",
       "      <td>0.399597</td>\n",
       "    </tr>\n",
       "    <tr>\n",
       "      <th>1</th>\n",
       "      <td>PIT</td>\n",
       "      <td>run</td>\n",
       "      <td>856.0</td>\n",
       "      <td>NaN</td>\n",
       "      <td>NaN</td>\n",
       "      <td>right</td>\n",
       "      <td>5</td>\n",
       "      <td>0.0</td>\n",
       "      <td>PIT 47</td>\n",
       "      <td>2009091000</td>\n",
       "      <td>...</td>\n",
       "      <td>3556.0</td>\n",
       "      <td>0</td>\n",
       "      <td>1</td>\n",
       "      <td>1</td>\n",
       "      <td>1</td>\n",
       "      <td>1</td>\n",
       "      <td>0</td>\n",
       "      <td>0</td>\n",
       "      <td>1</td>\n",
       "      <td>0.399597</td>\n",
       "    </tr>\n",
       "    <tr>\n",
       "      <th>2</th>\n",
       "      <td>PIT</td>\n",
       "      <td>pass</td>\n",
       "      <td>815.0</td>\n",
       "      <td>deep</td>\n",
       "      <td>right</td>\n",
       "      <td>NaN</td>\n",
       "      <td>8</td>\n",
       "      <td>0.0</td>\n",
       "      <td>PIT 44</td>\n",
       "      <td>2009091000</td>\n",
       "      <td>...</td>\n",
       "      <td>3515.0</td>\n",
       "      <td>0</td>\n",
       "      <td>0</td>\n",
       "      <td>2</td>\n",
       "      <td>2</td>\n",
       "      <td>0</td>\n",
       "      <td>0</td>\n",
       "      <td>0</td>\n",
       "      <td>2</td>\n",
       "      <td>0.399597</td>\n",
       "    </tr>\n",
       "    <tr>\n",
       "      <th>3</th>\n",
       "      <td>TEN</td>\n",
       "      <td>run</td>\n",
       "      <td>796.0</td>\n",
       "      <td>NaN</td>\n",
       "      <td>NaN</td>\n",
       "      <td>middle</td>\n",
       "      <td>10</td>\n",
       "      <td>0.0</td>\n",
       "      <td>TEN 2</td>\n",
       "      <td>2009091000</td>\n",
       "      <td>...</td>\n",
       "      <td>3496.0</td>\n",
       "      <td>1</td>\n",
       "      <td>1</td>\n",
       "      <td>1</td>\n",
       "      <td>1</td>\n",
       "      <td>2</td>\n",
       "      <td>1</td>\n",
       "      <td>1</td>\n",
       "      <td>3</td>\n",
       "      <td>0.433429</td>\n",
       "    </tr>\n",
       "    <tr>\n",
       "      <th>4</th>\n",
       "      <td>TEN</td>\n",
       "      <td>pass</td>\n",
       "      <td>760.0</td>\n",
       "      <td>short</td>\n",
       "      <td>left</td>\n",
       "      <td>NaN</td>\n",
       "      <td>10</td>\n",
       "      <td>0.0</td>\n",
       "      <td>TEN 2</td>\n",
       "      <td>2009091000</td>\n",
       "      <td>...</td>\n",
       "      <td>3460.0</td>\n",
       "      <td>1</td>\n",
       "      <td>0</td>\n",
       "      <td>0</td>\n",
       "      <td>0</td>\n",
       "      <td>0</td>\n",
       "      <td>1</td>\n",
       "      <td>1</td>\n",
       "      <td>3</td>\n",
       "      <td>0.433429</td>\n",
       "    </tr>\n",
       "    <tr>\n",
       "      <th>...</th>\n",
       "      <td>...</td>\n",
       "      <td>...</td>\n",
       "      <td>...</td>\n",
       "      <td>...</td>\n",
       "      <td>...</td>\n",
       "      <td>...</td>\n",
       "      <td>...</td>\n",
       "      <td>...</td>\n",
       "      <td>...</td>\n",
       "      <td>...</td>\n",
       "      <td>...</td>\n",
       "      <td>...</td>\n",
       "      <td>...</td>\n",
       "      <td>...</td>\n",
       "      <td>...</td>\n",
       "      <td>...</td>\n",
       "      <td>...</td>\n",
       "      <td>...</td>\n",
       "      <td>...</td>\n",
       "      <td>...</td>\n",
       "      <td>...</td>\n",
       "    </tr>\n",
       "    <tr>\n",
       "      <th>316811</th>\n",
       "      <td>CAR</td>\n",
       "      <td>pass</td>\n",
       "      <td>82.0</td>\n",
       "      <td>short</td>\n",
       "      <td>right</td>\n",
       "      <td>NaN</td>\n",
       "      <td>1</td>\n",
       "      <td>0.0</td>\n",
       "      <td>CAR 29</td>\n",
       "      <td>2018121700</td>\n",
       "      <td>...</td>\n",
       "      <td>2050.0</td>\n",
       "      <td>14</td>\n",
       "      <td>0</td>\n",
       "      <td>0</td>\n",
       "      <td>2</td>\n",
       "      <td>0</td>\n",
       "      <td>5</td>\n",
       "      <td>15</td>\n",
       "      <td>446</td>\n",
       "      <td>0.457861</td>\n",
       "    </tr>\n",
       "    <tr>\n",
       "      <th>316812</th>\n",
       "      <td>CAR</td>\n",
       "      <td>pass</td>\n",
       "      <td>77.0</td>\n",
       "      <td>short</td>\n",
       "      <td>middle</td>\n",
       "      <td>NaN</td>\n",
       "      <td>1</td>\n",
       "      <td>0.0</td>\n",
       "      <td>CAR 29</td>\n",
       "      <td>2018121700</td>\n",
       "      <td>...</td>\n",
       "      <td>1925.0</td>\n",
       "      <td>14</td>\n",
       "      <td>0</td>\n",
       "      <td>0</td>\n",
       "      <td>3</td>\n",
       "      <td>0</td>\n",
       "      <td>5</td>\n",
       "      <td>15</td>\n",
       "      <td>446</td>\n",
       "      <td>0.457861</td>\n",
       "    </tr>\n",
       "    <tr>\n",
       "      <th>316813</th>\n",
       "      <td>CAR</td>\n",
       "      <td>pass</td>\n",
       "      <td>63.0</td>\n",
       "      <td>short</td>\n",
       "      <td>middle</td>\n",
       "      <td>NaN</td>\n",
       "      <td>10</td>\n",
       "      <td>0.0</td>\n",
       "      <td>CAR 34</td>\n",
       "      <td>2018121700</td>\n",
       "      <td>...</td>\n",
       "      <td>1575.0</td>\n",
       "      <td>14</td>\n",
       "      <td>0</td>\n",
       "      <td>0</td>\n",
       "      <td>3</td>\n",
       "      <td>0</td>\n",
       "      <td>5</td>\n",
       "      <td>15</td>\n",
       "      <td>458</td>\n",
       "      <td>0.457861</td>\n",
       "    </tr>\n",
       "    <tr>\n",
       "      <th>316814</th>\n",
       "      <td>CAR</td>\n",
       "      <td>pass</td>\n",
       "      <td>58.0</td>\n",
       "      <td>short</td>\n",
       "      <td>middle</td>\n",
       "      <td>NaN</td>\n",
       "      <td>10</td>\n",
       "      <td>0.0</td>\n",
       "      <td>CAR 34</td>\n",
       "      <td>2018121700</td>\n",
       "      <td>...</td>\n",
       "      <td>1450.0</td>\n",
       "      <td>14</td>\n",
       "      <td>0</td>\n",
       "      <td>0</td>\n",
       "      <td>3</td>\n",
       "      <td>0</td>\n",
       "      <td>5</td>\n",
       "      <td>15</td>\n",
       "      <td>458</td>\n",
       "      <td>0.457861</td>\n",
       "    </tr>\n",
       "    <tr>\n",
       "      <th>316815</th>\n",
       "      <td>CAR</td>\n",
       "      <td>pass</td>\n",
       "      <td>38.0</td>\n",
       "      <td>short</td>\n",
       "      <td>right</td>\n",
       "      <td>NaN</td>\n",
       "      <td>5</td>\n",
       "      <td>0.0</td>\n",
       "      <td>CAR 39</td>\n",
       "      <td>2018121700</td>\n",
       "      <td>...</td>\n",
       "      <td>950.0</td>\n",
       "      <td>14</td>\n",
       "      <td>0</td>\n",
       "      <td>0</td>\n",
       "      <td>2</td>\n",
       "      <td>0</td>\n",
       "      <td>5</td>\n",
       "      <td>15</td>\n",
       "      <td>472</td>\n",
       "      <td>0.457861</td>\n",
       "    </tr>\n",
       "  </tbody>\n",
       "</table>\n",
       "<p>316816 rows × 42 columns</p>\n",
       "</div>"
      ],
      "text/plain": [
       "       posteam play_type  quarter_seconds_remaining pass_length pass_location  \\\n",
       "0          PIT      pass                      893.0       short          left   \n",
       "1          PIT       run                      856.0         NaN           NaN   \n",
       "2          PIT      pass                      815.0        deep         right   \n",
       "3          TEN       run                      796.0         NaN           NaN   \n",
       "4          TEN      pass                      760.0       short          left   \n",
       "...        ...       ...                        ...         ...           ...   \n",
       "316811     CAR      pass                       82.0       short         right   \n",
       "316812     CAR      pass                       77.0       short        middle   \n",
       "316813     CAR      pass                       63.0       short        middle   \n",
       "316814     CAR      pass                       58.0       short        middle   \n",
       "316815     CAR      pass                       38.0       short         right   \n",
       "\n",
       "       run_location  ydstogo  first_down_rush   yrdln     game_id  ...  \\\n",
       "0               NaN       10              0.0  PIT 42  2009091000  ...   \n",
       "1             right        5              0.0  PIT 47  2009091000  ...   \n",
       "2               NaN        8              0.0  PIT 44  2009091000  ...   \n",
       "3            middle       10              0.0   TEN 2  2009091000  ...   \n",
       "4               NaN       10              0.0   TEN 2  2009091000  ...   \n",
       "...             ...      ...              ...     ...         ...  ...   \n",
       "316811          NaN        1              0.0  CAR 29  2018121700  ...   \n",
       "316812          NaN        1              0.0  CAR 29  2018121700  ...   \n",
       "316813          NaN       10              0.0  CAR 34  2018121700  ...   \n",
       "316814          NaN       10              0.0  CAR 34  2018121700  ...   \n",
       "316815          NaN        5              0.0  CAR 39  2018121700  ...   \n",
       "\n",
       "        time_score  posteam_f  play_type_f  pass_length_f  pass_location_f  \\\n",
       "0           3593.0          0            0              0                0   \n",
       "1           3556.0          0            1              1                1   \n",
       "2           3515.0          0            0              2                2   \n",
       "3           3496.0          1            1              1                1   \n",
       "4           3460.0          1            0              0                0   \n",
       "...            ...        ...          ...            ...              ...   \n",
       "316811      2050.0         14            0              0                2   \n",
       "316812      1925.0         14            0              0                3   \n",
       "316813      1575.0         14            0              0                3   \n",
       "316814      1450.0         14            0              0                3   \n",
       "316815       950.0         14            0              0                2   \n",
       "\n",
       "        run_location_f defteam_f  side_of_field_f  yrdln_f  posteam_rp_ratio  \n",
       "0                    0         0                0        0          0.399597  \n",
       "1                    1         0                0        1          0.399597  \n",
       "2                    0         0                0        2          0.399597  \n",
       "3                    2         1                1        3          0.433429  \n",
       "4                    0         1                1        3          0.433429  \n",
       "...                ...       ...              ...      ...               ...  \n",
       "316811               0         5               15      446          0.457861  \n",
       "316812               0         5               15      446          0.457861  \n",
       "316813               0         5               15      458          0.457861  \n",
       "316814               0         5               15      458          0.457861  \n",
       "316815               0         5               15      472          0.457861  \n",
       "\n",
       "[316816 rows x 42 columns]"
      ]
     },
     "execution_count": 153,
     "metadata": {},
     "output_type": "execute_result"
    }
   ],
   "source": [
    "import pandas as pd\n",
    "import numpy as np\n",
    "# Load scikit's random forest classifier library\n",
    "from sklearn.ensemble import RandomForestClassifier\n",
    "from sklearn import metrics\n",
    "# Load scikit's train test split function\n",
    "from sklearn.model_selection import train_test_split\n",
    "from sklearn.preprocessing import binarize\n",
    "#Load scikit's accuracy calculator and confusion_matrix functions\n",
    "from sklearn.metrics import accuracy_score, confusion_matrix# Load scikit's random forest classifier library\n",
    "from sklearn.ensemble import RandomForestClassifier\n",
    "\n",
    "# Load scikit's train test split function\n",
    "from sklearn.model_selection import train_test_split\n",
    "\n",
    "#Load scikit's accuracy calculator and confusion_matrix functions\n",
    "from sklearn.metrics import accuracy_score, confusion_matrix\n",
    "\n",
    "df_csv = pd.read_csv(\"NFL_Python_Filtered.csv\")\n",
    "\n",
    "df_csv"
   ]
  },
  {
   "cell_type": "code",
   "execution_count": 154,
   "metadata": {},
   "outputs": [
    {
     "name": "stdout",
     "output_type": "stream",
     "text": [
      "(221771, 18) (95045, 18) (221771,) (95045,)\n",
      "Check to make sure no indices are in both sets X: set()\n",
      "Check to make sure no indices are in both sets Y: set()\n",
      "Accuracy 0.79\n",
      "            Predicted 0  Predicted 1\n",
      "Actual 0.0        47640         8025\n",
      "Actual 1.0        11887        27493\n"
     ]
    }
   ],
   "source": [
    "df = df_csv\n",
    "\n",
    "rushattempt_map = {}\n",
    "for index, rush_attempt in enumerate(df[\"rush_attempt\"].unique()):\n",
    "    rushattempt_map[rush_attempt] = index\n",
    "y_factorized = df[\"rush_attempt\"].map(rushattempt_map)\n",
    "\n",
    "# Correct proportion calculation on y_train\n",
    "porportions = np.bincount(y_factorized) / len(y_factorized)\n",
    "\n",
    "feature_set = ['posteam_f', 'quarter_seconds_remaining', 'ydstogo', \n",
    "                 'yrdln_f', 'down', 'score_differential_post',\n",
    "                 'defteam_f', 'game_seconds_remaining',\n",
    "                 'epa', 'wpa', 'yardline_100', 'half_seconds_remaining', 'side_of_field_f',\n",
    "                 'shotgun', 'drive', 'down_ydstogo', 'posteam_rp_ratio', 'time_score']\n",
    "\n",
    "x_train, x_test, y_train, y_test = train_test_split(\n",
    "    df[feature_set],\n",
    "    y_factorized,\n",
    "    test_size=0.30,\n",
    "    random_state=50,\n",
    ")\n",
    "\n",
    "print(x_train.shape, x_test.shape, y_train.shape, y_test.shape)\n",
    "\n",
    "overlapping_indices_x = set(x_train.index).intersection(set(x_test.index))\n",
    "print(f\"Check to make sure no indices are in both sets X: {overlapping_indices_x}\")\n",
    "overlapping_indices_y = set(y_train.index).intersection(set(y_test.index))\n",
    "print(f\"Check to make sure no indices are in both sets Y: {overlapping_indices_y}\")\n",
    "\n",
    "rorp = RandomForestClassifier(random_state=50)\n",
    "rorp.fit(x_train, y_train)\n",
    "\n",
    "y_pred = rorp.predict(x_test)\n",
    "accuracy = accuracy_score(y_test, y_pred)\n",
    "print(f\"Accuracy {accuracy:.2f}\")\n",
    "\n",
    "inverted_rorp = {v: k for k, v in rushattempt_map.items()}\n",
    "predicted_rorp = [inverted_rorp[label] for label in y_pred]\n",
    "\n",
    "inverted_rorp = {v: k for k, v in rushattempt_map.items()}\n",
    "predicted_rorp = [inverted_rorp[label] for label in y_pred]\n",
    "\n",
    "cm = confusion_matrix(y_test, y_pred)\n",
    "\n",
    "# Swap rows and columns when creating the DataFrame\n",
    "confusion_df = pd.DataFrame(\n",
    "    cm,\n",
    "    columns=[f\"Predicted {rush_attempt}\" for rush_attempt in inverted_rorp],\n",
    "    index=[f\"Actual {rush_attempt}\" for rush_attempt in inverted_rorp.values()]\n",
    ")\n",
    "\n",
    "print(confusion_df)\n",
    "\n"
   ]
  },
  {
   "cell_type": "code",
   "execution_count": 155,
   "metadata": {},
   "outputs": [
    {
     "name": "stdout",
     "output_type": "stream",
     "text": [
      "0.79049923720343\n"
     ]
    }
   ],
   "source": [
    "print (metrics.accuracy_score(y_test, y_pred))"
   ]
  },
  {
   "cell_type": "code",
   "execution_count": 156,
   "metadata": {},
   "outputs": [
    {
     "name": "stdout",
     "output_type": "stream",
     "text": [
      "0.4143300541848598\n",
      "0.5856699458151402\n",
      "0.5856699458151402\n"
     ]
    },
    {
     "data": {
      "text/plain": [
       "0    0.58567\n",
       "Name: rush_attempt, dtype: float64"
      ]
     },
     "execution_count": 156,
     "metadata": {},
     "output_type": "execute_result"
    }
   ],
   "source": [
    "x = y_test.mean() #null accuracy\n",
    "print(str(x))\n",
    "y = 1- x\n",
    "print(str(y))\n",
    "print ( str(max (x,y)))\n",
    "y_test.value_counts().head(1) / len(y_test)\n"
   ]
  },
  {
   "cell_type": "code",
   "execution_count": 157,
   "metadata": {},
   "outputs": [
    {
     "name": "stdout",
     "output_type": "stream",
     "text": [
      "True: [1 0 0 1 1 1 0 1 0 1 0 1 1 1 1 1 1 1 0 0 1 0 1 1 0]\n",
      "False: [1 1 0 1 1 0 0 0 0 1 0 1 1 1 0 0 1 0 0 0 1 1 1 1 0]\n"
     ]
    }
   ],
   "source": [
    "print (\"True:\", y_test.values[0:25])\n",
    "print (\"False:\", y_pred[0:25]) # overlapping\n"
   ]
  },
  {
   "cell_type": "code",
   "execution_count": 158,
   "metadata": {},
   "outputs": [
    {
     "name": "stdout",
     "output_type": "stream",
     "text": [
      "[[47640  8025]\n",
      " [11887 27493]]\n"
     ]
    }
   ],
   "source": [
    "print (metrics.confusion_matrix(y_test, y_pred))\n",
    "\n",
    "confusion = metrics.confusion_matrix(y_test, y_pred)\n",
    "TP = confusion[0,1]\n",
    "TN = confusion[0,0]\n",
    "FP = confusion[0,1]\n",
    "FN = confusion[1,0]"
   ]
  },
  {
   "cell_type": "code",
   "execution_count": 159,
   "metadata": {},
   "outputs": [
    {
     "data": {
      "text/plain": [
       "104430    1\n",
       "194479    0\n",
       "21472     0\n",
       "104351    1\n",
       "60697     1\n",
       "         ..\n",
       "55593     1\n",
       "26104     1\n",
       "287132    1\n",
       "138312    1\n",
       "168353    0\n",
       "Name: rush_attempt, Length: 95045, dtype: int64"
      ]
     },
     "execution_count": 159,
     "metadata": {},
     "output_type": "execute_result"
    }
   ],
   "source": [
    "y_test"
   ]
  },
  {
   "cell_type": "code",
   "execution_count": 160,
   "metadata": {},
   "outputs": [
    {
     "data": {
      "text/plain": [
       "array([1, 1, 0, ..., 1, 1, 0], dtype=int64)"
      ]
     },
     "execution_count": 160,
     "metadata": {},
     "output_type": "execute_result"
    }
   ],
   "source": [
    "y_pred"
   ]
  },
  {
   "cell_type": "code",
   "execution_count": 161,
   "metadata": {},
   "outputs": [
    {
     "name": "stdout",
     "output_type": "stream",
     "text": [
      "0.7365336014925176\n",
      "0.79049923720343\n"
     ]
    }
   ],
   "source": [
    "# classification accuracy\n",
    "print ((TP + TN) / float(TP + TN + FP + FN))\n",
    "print (metrics.accuracy_score(y_test, y_pred)) "
   ]
  },
  {
   "cell_type": "code",
   "execution_count": 162,
   "metadata": {},
   "outputs": [
    {
     "name": "stdout",
     "output_type": "stream",
     "text": [
      "0.26346639850748244\n",
      "0.20950076279657004\n"
     ]
    }
   ],
   "source": [
    "#classification error\n",
    "print ((FP + FN) / float(TP + TN + FP + FN)) # not the same?\n",
    "print (1 - metrics.accuracy_score(y_test, y_pred))\n"
   ]
  },
  {
   "cell_type": "code",
   "execution_count": 163,
   "metadata": {},
   "outputs": [
    {
     "name": "stdout",
     "output_type": "stream",
     "text": [
      "0.403023302531137\n",
      "0.6981462671406805\n"
     ]
    }
   ],
   "source": [
    "# sensitivity \n",
    "print (TP / float(TP + FN)) # a n/a still in data?\n",
    "print (metrics.recall_score(y_test, y_pred))\n"
   ]
  },
  {
   "cell_type": "code",
   "execution_count": 164,
   "metadata": {},
   "outputs": [
    {
     "name": "stdout",
     "output_type": "stream",
     "text": [
      "0.8558340070061978\n"
     ]
    }
   ],
   "source": [
    "#specificity \n",
    "print(TN / float(TN + FP))"
   ]
  },
  {
   "cell_type": "code",
   "execution_count": 165,
   "metadata": {},
   "outputs": [
    {
     "name": "stdout",
     "output_type": "stream",
     "text": [
      "0.1441659929938022\n"
     ]
    }
   ],
   "source": [
    "# flase postives \n",
    "print (FP / float(TN + FP))\n"
   ]
  },
  {
   "cell_type": "code",
   "execution_count": 166,
   "metadata": {},
   "outputs": [
    {
     "name": "stdout",
     "output_type": "stream",
     "text": [
      "0.5\n",
      "0.7740582239990991\n"
     ]
    }
   ],
   "source": [
    "\n",
    "# precision\n",
    "print (TP / float(TP + FP))\n",
    "print (metrics.precision_score(y_test, y_pred))"
   ]
  },
  {
   "cell_type": "code",
   "execution_count": 167,
   "metadata": {},
   "outputs": [],
   "source": [
    "# adjusting the classification\n",
    "# rorp.predict(x_test)[0:10]\n",
    "rorp.predict(x_test)\n",
    "y_predprob = rorp.predict_proba(x_test)\n",
    "\n",
    "# rorp.predict_proba(x_test)[0:10, :]\n",
    "# rorp.predict_proba(x_test)[0:10, 1]\n",
    "# y_predprob = rorp.predict_proba(x_test)[:, 1]"
   ]
  },
  {
   "cell_type": "code",
   "execution_count": 168,
   "metadata": {},
   "outputs": [
    {
     "data": {
      "image/png": "[encoded data removed]",
      "text/plain": [
       "<Figure size 640x480 with 1 Axes>"
      ]
     },
     "metadata": {},
     "output_type": "display_data"
    }
   ],
   "source": [
    "import matplotlib.pyplot as plt\n",
    "import scikitplot as skplt\n",
    "skplt.metrics.plot_cumulative_gain(y_test, y_predprob)\n",
    "plt.show()"
   ]
  },
  {
   "cell_type": "code",
   "execution_count": 169,
   "metadata": {},
   "outputs": [],
   "source": [
    "y_predprob = rorp.predict_proba(x_test)[:, 1]"
   ]
  },
  {
   "cell_type": "code",
   "execution_count": 170,
   "metadata": {},
   "outputs": [
    {
     "name": "stdout",
     "output_type": "stream",
     "text": [
      "[0.53 0.76 0.07 ... 0.9  0.52 0.2 ]\n",
      "[1 1 0 ... 1 1 0]\n"
     ]
    }
   ],
   "source": [
    "print(y_predprob)\n",
    "print(y_pred)\n",
    "# y_test.columns"
   ]
  },
  {
   "cell_type": "code",
   "execution_count": 171,
   "metadata": {},
   "outputs": [],
   "source": [
    "%matplotlib inline \n",
    "import matplotlib.pyplot as plt\n",
    "plt.rcParams['font.size']=14 "
   ]
  },
  {
   "cell_type": "code",
   "execution_count": 172,
   "metadata": {},
   "outputs": [
    {
     "data": {
      "text/plain": [
       "Text(0, 0.5, 'frequency')"
      ]
     },
     "execution_count": 172,
     "metadata": {},
     "output_type": "execute_result"
    },
    {
     "data": {
      "image/png": "[encoded data removed]",
      "text/plain": [
       "<Figure size 640x480 with 1 Axes>"
      ]
     },
     "metadata": {},
     "output_type": "display_data"
    }
   ],
   "source": [
    "plt.hist(y_pred, bins = 8)\n",
    "plt.xlim(0,1)\n",
    "plt.title('Histogram of predicted probabilities')\n",
    "plt.xlabel('predicited probabilities of rush')\n",
    "plt.ylabel('frequency') # 0 and 1 "
   ]
  },
  {
   "cell_type": "code",
   "execution_count": 201,
   "metadata": {},
   "outputs": [],
   "source": [
    "y_pred= (y_predprob >= 0.5).astype(float)"
   ]
  },
  {
   "cell_type": "code",
   "execution_count": 202,
   "metadata": {},
   "outputs": [
    {
     "name": "stdout",
     "output_type": "stream",
     "text": [
      "0.7903519385554211\n"
     ]
    }
   ],
   "source": [
    "print (metrics.accuracy_score(y_test, y_pred))"
   ]
  },
  {
   "cell_type": "code",
   "execution_count": 174,
   "metadata": {},
   "outputs": [
    {
     "data": {
      "text/plain": [
       "array([0.53, 0.76, 0.07, 1.  , 0.55, 0.48, 0.07, 0.47, 0.35, 0.65])"
      ]
     },
     "execution_count": 174,
     "metadata": {},
     "output_type": "execute_result"
    }
   ],
   "source": [
    "y_predprob[0:10]\n"
   ]
  },
  {
   "cell_type": "code",
   "execution_count": 175,
   "metadata": {},
   "outputs": [
    {
     "data": {
      "text/plain": [
       "array([1, 1, 0, 1, 1, 0, 0, 0, 0, 1], dtype=int64)"
      ]
     },
     "execution_count": 175,
     "metadata": {},
     "output_type": "execute_result"
    }
   ],
   "source": [
    "y_pred[0:10]"
   ]
  },
  {
   "cell_type": "code",
   "execution_count": 176,
   "metadata": {},
   "outputs": [
    {
     "data": {
      "text/plain": [
       "array([1, 0, 0, 1, 1, 1, 0, 1, 0, 1], dtype=int64)"
      ]
     },
     "execution_count": 176,
     "metadata": {},
     "output_type": "execute_result"
    }
   ],
   "source": [
    "y_test.values[0:10]"
   ]
  },
  {
   "cell_type": "code",
   "execution_count": 177,
   "metadata": {},
   "outputs": [
    {
     "name": "stdout",
     "output_type": "stream",
     "text": [
      "[[47640  8025]\n",
      " [11887 27493]]\n"
     ]
    }
   ],
   "source": [
    "print (confusion)\n"
   ]
  },
  {
   "cell_type": "code",
   "execution_count": 178,
   "metadata": {},
   "outputs": [
    {
     "name": "stdout",
     "output_type": "stream",
     "text": [
      "[[47640  8025]\n",
      " [11887 27493]]\n"
     ]
    }
   ],
   "source": [
    "print (metrics.confusion_matrix(y_test, y_pred))\n"
   ]
  },
  {
   "cell_type": "code",
   "execution_count": 179,
   "metadata": {},
   "outputs": [
    {
     "name": "stdout",
     "output_type": "stream",
     "text": [
      "0.7419354838709677\n"
     ]
    }
   ],
   "source": [
    "print (46 / float(46 + 16))\n"
   ]
  },
  {
   "cell_type": "code",
   "execution_count": 180,
   "metadata": {},
   "outputs": [
    {
     "name": "stdout",
     "output_type": "stream",
     "text": [
      "0.6153846153846154\n"
     ]
    }
   ],
   "source": [
    "print (80 / float(80 + 50))\n"
   ]
  },
  {
   "cell_type": "code",
   "execution_count": 181,
   "metadata": {},
   "outputs": [
    {
     "data": {
      "image/png": "[encoded data removed]",
      "text/plain": [
       "<Figure size 640x480 with 1 Axes>"
      ]
     },
     "metadata": {},
     "output_type": "display_data"
    }
   ],
   "source": [
    "fpr,tpr, thresholds = metrics.roc_curve(y_test.values, y_predprob)\n",
    "plt.plot(fpr, tpr)\n",
    "plt.xlim([0.0,1.0])\n",
    "plt.ylim([0.0,1.0])\n",
    "plt.title(\"ROC curve for rush classifier\")\n",
    "plt.xlabel(\"False Postives Rate (1- Specificity)\")\n",
    "plt.ylabel(\"True Postive Rate (Sensitivity)\")\n",
    "plt.grid(True) # big O notation moment "
   ]
  },
  {
   "cell_type": "code",
   "execution_count": 182,
   "metadata": {},
   "outputs": [],
   "source": [
    "def evaluate_threshold(threshold):\n",
    "    print('Sensitivity:', tpr[thresholds > threshold][-1])\n",
    "    print('Specificity:', 1- tpr[thresholds > threshold][-1])\n",
    "    "
   ]
  },
  {
   "cell_type": "code",
   "execution_count": 207,
   "metadata": {},
   "outputs": [
    {
     "name": "stdout",
     "output_type": "stream",
     "text": [
      "Sensitivity: 0.4690959878110716\n",
      "Specificity: 0.5309040121889284\n"
     ]
    }
   ],
   "source": [
    "evaluate_threshold(0.7)"
   ]
  },
  {
   "cell_type": "code",
   "execution_count": 208,
   "metadata": {},
   "outputs": [
    {
     "name": "stdout",
     "output_type": "stream",
     "text": [
      "0.7903519385554211\n"
     ]
    }
   ],
   "source": [
    "print (metrics.accuracy_score(y_test, y_pred))"
   ]
  },
  {
   "cell_type": "code",
   "execution_count": 184,
   "metadata": {},
   "outputs": [
    {
     "name": "stdout",
     "output_type": "stream",
     "text": [
      "Sensitivity: 0.6981462671406805\n",
      "Specificity: 0.3018537328593195\n"
     ]
    }
   ],
   "source": [
    "evaluate_threshold(0.5)"
   ]
  },
  {
   "cell_type": "code",
   "execution_count": 185,
   "metadata": {},
   "outputs": [
    {
     "name": "stdout",
     "output_type": "stream",
     "text": [
      "Sensitivity: 0.9996698831894363\n",
      "Specificity: 0.00033011681056371867\n",
      "Sensitivity: 0.9991366175723717\n",
      "Specificity: 0.0008633824276282898\n",
      "Sensitivity: 0.9984002031488065\n",
      "Specificity: 0.0015997968511934912\n",
      "Sensitivity: 0.997054342305739\n",
      "Specificity: 0.002945657694261028\n",
      "Sensitivity: 0.9951498222447943\n",
      "Specificity: 0.004850177755205687\n",
      "Sensitivity: 0.9930421533773489\n",
      "Specificity: 0.006957846622651087\n",
      "Sensitivity: 0.9905027932960894\n",
      "Specificity: 0.009497206703910632\n",
      "Sensitivity: 0.9877856780091417\n",
      "Specificity: 0.012214321990858257\n",
      "Sensitivity: 0.984941594718131\n",
      "Specificity: 0.01505840528186897\n",
      "Sensitivity: 0.9814372778059929\n",
      "Specificity: 0.01856272219400712\n",
      "Sensitivity: 0.9779837480954799\n",
      "Specificity: 0.022016251904520057\n",
      "Sensitivity: 0.9743778567800914\n",
      "Specificity: 0.025622143219908633\n",
      "Sensitivity: 0.9706957846622651\n",
      "Specificity: 0.029304215337734862\n",
      "Sensitivity: 0.9665058405281869\n",
      "Specificity: 0.03349415947181311\n",
      "Sensitivity: 0.9620873539867953\n",
      "Specificity: 0.037912646013204654\n",
      "Sensitivity: 0.9574403250380904\n",
      "Specificity: 0.0425596749619096\n",
      "Sensitivity: 0.9526663280853225\n",
      "Specificity: 0.04733367191467752\n",
      "Sensitivity: 0.9472320975114271\n",
      "Specificity: 0.05276790248857288\n",
      "Sensitivity: 0.9426866429659726\n",
      "Specificity: 0.0573133570340274\n",
      "Sensitivity: 0.9371762315896394\n",
      "Specificity: 0.06282376841036064\n",
      "Sensitivity: 0.931868969019807\n",
      "Specificity: 0.06813103098019302\n",
      "Sensitivity: 0.9270949720670391\n",
      "Specificity: 0.07290502793296094\n",
      "Sensitivity: 0.9212798374809548\n",
      "Specificity: 0.07872016251904523\n",
      "Sensitivity: 0.9158963941086846\n",
      "Specificity: 0.08410360589131538\n",
      "Sensitivity: 0.9098781107160996\n",
      "Specificity: 0.09012188928390041\n",
      "Sensitivity: 0.9035043169121382\n",
      "Specificity: 0.09649568308786183\n",
      "Sensitivity: 0.896927374301676\n",
      "Specificity: 0.10307262569832398\n",
      "Sensitivity: 0.8903504316912139\n",
      "Specificity: 0.10964956830878614\n",
      "Sensitivity: 0.8837988826815643\n",
      "Specificity: 0.11620111731843574\n",
      "Sensitivity: 0.8768156424581005\n",
      "Specificity: 0.12318435754189949\n",
      "Sensitivity: 0.8694514982224479\n",
      "Specificity: 0.13054850177755206\n",
      "Sensitivity: 0.8626968004062976\n",
      "Specificity: 0.1373031995937024\n",
      "Sensitivity: 0.8551549009649568\n",
      "Specificity: 0.14484509903504317\n",
      "Sensitivity: 0.8474606399187404\n",
      "Specificity: 0.15253936008125957\n",
      "Sensitivity: 0.8399187404773997\n",
      "Specificity: 0.16008125952260033\n",
      "Sensitivity: 0.8323768410360589\n",
      "Specificity: 0.1676231589639411\n",
      "Sensitivity: 0.8247079735906552\n",
      "Specificity: 0.17529202640934483\n",
      "Sensitivity: 0.8162772981208736\n",
      "Specificity: 0.18372270187912643\n",
      "Sensitivity: 0.8079989842559675\n",
      "Specificity: 0.1920010157440325\n",
      "Sensitivity: 0.7993397663788725\n",
      "Specificity: 0.2006602336211275\n",
      "Sensitivity: 0.7912646013204673\n",
      "Specificity: 0.20873539867953272\n",
      "Sensitivity: 0.7827831386490605\n",
      "Specificity: 0.21721686135093954\n",
      "Sensitivity: 0.7737430167597765\n",
      "Specificity: 0.22625698324022347\n",
      "Sensitivity: 0.764804469273743\n",
      "Specificity: 0.23519553072625698\n",
      "Sensitivity: 0.7559674961909599\n",
      "Specificity: 0.24403250380904007\n",
      "Sensitivity: 0.7459370238699847\n",
      "Specificity: 0.2540629761300153\n",
      "Sensitivity: 0.7367445403758253\n",
      "Specificity: 0.26325545962417474\n",
      "Sensitivity: 0.7275012696800406\n",
      "Specificity: 0.2724987303199594\n",
      "Sensitivity: 0.7173438293550025\n",
      "Specificity: 0.2826561706449975\n",
      "Sensitivity: 0.7079481970543423\n",
      "Specificity: 0.2920518029456577\n",
      "Sensitivity: 0.6981462671406805\n",
      "Specificity: 0.3018537328593195\n",
      "Sensitivity: 0.688522092432707\n",
      "Specificity: 0.311477907567293\n",
      "Sensitivity: 0.6781361097003555\n",
      "Specificity: 0.32186389029964446\n",
      "Sensitivity: 0.6666582021330625\n",
      "Specificity: 0.3333417978669375\n",
      "Sensitivity: 0.6560690705942103\n",
      "Specificity: 0.34393092940578973\n",
      "Sensitivity: 0.6460385982732352\n",
      "Specificity: 0.3539614017267648\n",
      "Sensitivity: 0.6360335195530726\n",
      "Specificity: 0.36396648044692737\n",
      "Sensitivity: 0.6254189944134079\n",
      "Specificity: 0.37458100558659213\n",
      "Sensitivity: 0.6150837988826816\n",
      "Specificity: 0.3849162011173184\n",
      "Sensitivity: 0.6037582529202641\n",
      "Specificity: 0.3962417470797359\n",
      "Sensitivity: 0.5926866429659726\n",
      "Specificity: 0.4073133570340274\n",
      "Sensitivity: 0.5807770441848654\n",
      "Specificity: 0.4192229558151346\n",
      "Sensitivity: 0.5687912646013205\n",
      "Specificity: 0.43120873539867954\n",
      "Sensitivity: 0.5579228034535297\n",
      "Specificity: 0.44207719654647026\n",
      "Sensitivity: 0.5462163534789233\n",
      "Specificity: 0.4537836465210767\n",
      "Sensitivity: 0.5338496698831894\n",
      "Specificity: 0.4661503301168106\n",
      "Sensitivity: 0.5217877094972067\n",
      "Specificity: 0.47821229050279335\n",
      "Sensitivity: 0.508405281868969\n",
      "Specificity: 0.49159471813103095\n",
      "Sensitivity: 0.4952006094464195\n",
      "Specificity: 0.5047993905535805\n",
      "Sensitivity: 0.48252920264093446\n",
      "Specificity: 0.5174707973590655\n",
      "Sensitivity: 0.4690959878110716\n",
      "Specificity: 0.5309040121889284\n",
      "Sensitivity: 0.4556881665820213\n",
      "Specificity: 0.5443118334179786\n",
      "Sensitivity: 0.4416708989334688\n",
      "Specificity: 0.5583291010665312\n",
      "Sensitivity: 0.4259522600304723\n",
      "Specificity: 0.5740477399695276\n",
      "Sensitivity: 0.41218892839004573\n",
      "Specificity: 0.5878110716099543\n",
      "Sensitivity: 0.3976891823260538\n",
      "Specificity: 0.6023108176739462\n",
      "Sensitivity: 0.3833671914677501\n",
      "Specificity: 0.6166328085322499\n",
      "Sensitivity: 0.3685373285931945\n",
      "Specificity: 0.6314626714068055\n",
      "Sensitivity: 0.3529964448958862\n",
      "Specificity: 0.6470035551041138\n",
      "Sensitivity: 0.33598273235144743\n",
      "Specificity: 0.6640172676485525\n",
      "Sensitivity: 0.32054342305738953\n",
      "Specificity: 0.6794565769426104\n",
      "Sensitivity: 0.3048755713560183\n",
      "Specificity: 0.6951244286439817\n",
      "Sensitivity: 0.2878618588115795\n",
      "Specificity: 0.7121381411884204\n",
      "Sensitivity: 0.26993397663788726\n",
      "Specificity: 0.7300660233621128\n",
      "Sensitivity: 0.25238699847638396\n",
      "Specificity: 0.747613001523616\n",
      "Sensitivity: 0.23423057389537835\n",
      "Specificity: 0.7657694261046216\n",
      "Sensitivity: 0.21658202133062468\n",
      "Specificity: 0.7834179786693753\n",
      "Sensitivity: 0.19875571356018285\n",
      "Specificity: 0.8012442864398172\n",
      "Sensitivity: 0.17955815134586084\n",
      "Specificity: 0.8204418486541392\n",
      "Sensitivity: 0.16046216353478923\n",
      "Specificity: 0.8395378364652107\n",
      "Sensitivity: 0.14073133570340274\n",
      "Specificity: 0.8592686642965972\n",
      "Sensitivity: 0.12067039106145251\n",
      "Specificity: 0.8793296089385475\n",
      "Sensitivity: 0.1016505840528187\n",
      "Specificity: 0.8983494159471813\n",
      "Sensitivity: 0.08362112747587608\n",
      "Specificity: 0.916378872524124\n",
      "Sensitivity: 0.0659217877094972\n",
      "Specificity: 0.9340782122905028\n",
      "Sensitivity: 0.0499746063991874\n",
      "Specificity: 0.9500253936008126\n",
      "Sensitivity: 0.03580497714575927\n",
      "Specificity: 0.9641950228542407\n",
      "Sensitivity: 0.02293042153377349\n",
      "Specificity: 0.9770695784662266\n",
      "Sensitivity: 0.01249365159979685\n",
      "Specificity: 0.9875063484002031\n",
      "Sensitivity: 0.004494667343829355\n",
      "Specificity: 0.9955053326561707\n"
     ]
    }
   ],
   "source": [
    "for i in range(100):\n",
    "    evaluate_threshold(i/100)"
   ]
  },
  {
   "cell_type": "code",
   "execution_count": 186,
   "metadata": {},
   "outputs": [],
   "source": [
    "# import numpy as np\n",
    "# from sklearn.metrics import f1_score\n",
    "\n",
    "# y_probs = rorp.predict_proba(x_test)[:, 1]\n",
    "\n",
    "# thresholds = np.arange(0, 1.05, 0.05)\n",
    "# best_threshold = 0.5\n",
    "# best_f1 = 0\n",
    "\n",
    "# for threshold in thresholds:\n",
    "#     y_pred = (y_probs >= threshold).astype(int)\n",
    "#     f1 = f1_score(y_test, y_pred)\n",
    "#     if f1 > best_f1:\n",
    "#         best_f1 = f1\n",
    "#         best_threshold = threshold\n",
    "\n",
    "# print(\"Best Threshold:\", best_threshold)"
   ]
  },
  {
   "cell_type": "code",
   "execution_count": 187,
   "metadata": {},
   "outputs": [
    {
     "name": "stdout",
     "output_type": "stream",
     "text": [
      "[0.53 0.76 0.07 ... 0.9  0.52 0.2 ]\n"
     ]
    }
   ],
   "source": [
    "print(y_predprob)"
   ]
  },
  {
   "cell_type": "code",
   "execution_count": 188,
   "metadata": {},
   "outputs": [
    {
     "name": "stdout",
     "output_type": "stream",
     "text": [
      "[1 1 0 ... 1 1 0]\n"
     ]
    }
   ],
   "source": [
    "print(y_pred)"
   ]
  },
  {
   "cell_type": "code",
   "execution_count": 189,
   "metadata": {},
   "outputs": [
    {
     "data": {
      "text/plain": [
       "0.8592156682417407"
      ]
     },
     "execution_count": 189,
     "metadata": {},
     "output_type": "execute_result"
    }
   ],
   "source": [
    "metrics.roc_auc_score(y_test, y_predprob)"
   ]
  },
  {
   "cell_type": "code",
   "execution_count": 190,
   "metadata": {},
   "outputs": [],
   "source": [
    "#from sklearn.model_selection import cross_val_score\n",
    "#roc_auc_mean = cross_val_score(rorp, x_train, y_train, cv=10, scoring='roc_auc').mean()\n"
   ]
  },
  {
   "cell_type": "code",
   "execution_count": 191,
   "metadata": {},
   "outputs": [
    {
     "name": "stdout",
     "output_type": "stream",
     "text": [
      "                      Feature  Importance\n",
      "8                         epa    0.129935\n",
      "13                    shotgun    0.116893\n",
      "9                         wpa    0.094646\n",
      "11     half_seconds_remaining    0.062269\n",
      "10               yardline_100    0.061183\n",
      "7      game_seconds_remaining    0.053667\n",
      "1   quarter_seconds_remaining    0.051703\n",
      "17                 time_score    0.051557\n",
      "3                     yrdln_f    0.051347\n",
      "5     score_differential_post    0.051303\n",
      "6                   defteam_f    0.040909\n",
      "16           posteam_rp_ratio    0.038447\n",
      "2                     ydstogo    0.035110\n",
      "14                      drive    0.034245\n",
      "12            side_of_field_f    0.034098\n",
      "0                   posteam_f    0.034026\n",
      "15               down_ydstogo    0.031267\n",
      "4                        down    0.027393\n"
     ]
    }
   ],
   "source": [
    "feature_importances = rorp.feature_importances_\n",
    "feature_importance_df = pd.DataFrame(\n",
    "    {\"Feature\": feature_set, \"Importance\": feature_importances}\n",
    ")\n",
    "print(feature_importance_df.sort_values(['Importance'], ascending=False))"
   ]
  },
  {
   "cell_type": "code",
   "execution_count": null,
   "metadata": {},
   "outputs": [],
   "source": []
  }
 ],
 "metadata": {
  "kernelspec": {
   "display_name": "base",
   "language": "python",
   "name": "python3"
  },
  "language_info": {
   "codemirror_mode": {
    "name": "ipython",
    "version": 3
   },
   "file_extension": ".py",
   "mimetype": "text/x-python",
   "name": "python",
   "nbconvert_exporter": "python",
   "pygments_lexer": "ipython3",
   "version": "3.10.9"
  },
  "orig_nbformat": 4
 },
 "nbformat": 4,
 "nbformat_minor": 2
}
